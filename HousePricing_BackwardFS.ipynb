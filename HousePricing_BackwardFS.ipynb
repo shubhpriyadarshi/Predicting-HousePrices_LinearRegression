{
 "cells": [
  {
   "cell_type": "code",
   "execution_count": 1,
   "id": "sealed-revolution",
   "metadata": {},
   "outputs": [],
   "source": [
    "#importing the libraries\n",
    "import numpy as np\n",
    "import pandas as pd"
   ]
  },
  {
   "cell_type": "code",
   "execution_count": 2,
   "id": "velvet-christopher",
   "metadata": {
    "scrolled": true
   },
   "outputs": [
    {
     "data": {
      "text/plain": [
       "bedrooms          0\n",
       "bathrooms         0\n",
       "sqft_living      14\n",
       "sqft_lot          0\n",
       "floors           13\n",
       "waterfront        0\n",
       "view              0\n",
       "condition         0\n",
       "grade             0\n",
       "sqft_above       14\n",
       "sqft_basement     0\n",
       "sqft_living15     0\n",
       "sqft_lot15        0\n",
       "price             0\n",
       "dtype: int64"
      ]
     },
     "execution_count": 2,
     "metadata": {},
     "output_type": "execute_result"
    }
   ],
   "source": [
    "#reading the data\n",
    "df = pd.read_csv(\"FoDS-Assignment-2.csv\")\n",
    "\n",
    "# shuffle the DataFrame rows\n",
    "df = df.sample(frac = 1)\n",
    "\n",
    "df.isnull().sum()"
   ]
  },
  {
   "cell_type": "code",
   "execution_count": 3,
   "id": "academic-provider",
   "metadata": {},
   "outputs": [
    {
     "data": {
      "text/plain": [
       "bedrooms         0\n",
       "bathrooms        0\n",
       "sqft_living      0\n",
       "sqft_lot         0\n",
       "floors           0\n",
       "waterfront       0\n",
       "view             0\n",
       "condition        0\n",
       "grade            0\n",
       "sqft_above       0\n",
       "sqft_basement    0\n",
       "sqft_living15    0\n",
       "sqft_lot15       0\n",
       "price            0\n",
       "dtype: int64"
      ]
     },
     "execution_count": 3,
     "metadata": {},
     "output_type": "execute_result"
    }
   ],
   "source": [
    "#handling missing values-----dropping rows method\n",
    "df = df.dropna(axis = 0)\n",
    "df.isnull().sum()"
   ]
  },
  {
   "cell_type": "code",
   "execution_count": 4,
   "id": "waiting-plymouth",
   "metadata": {},
   "outputs": [],
   "source": [
    "Features_list = [\"bedrooms\", \"bathrooms\", \"sqft_living\", \"sqft_lot\", \"floors\", \"waterfront\", \"view\", \"condition\", \"grade\", \"sqft_above\", \"sqft_basement\", \"sqft_living15\", \"sqft_lot15\"]"
   ]
  },
  {
   "cell_type": "code",
   "execution_count": 5,
   "id": "educational-combine",
   "metadata": {},
   "outputs": [],
   "source": [
    "#Feature Scaling\n",
    "#normalising the data values\n",
    "df = (df - df.min()) / (df.max() - df.min())"
   ]
  },
  {
   "cell_type": "code",
   "execution_count": 6,
   "id": "wicked-offense",
   "metadata": {},
   "outputs": [
    {
     "name": "stdout",
     "output_type": "stream",
     "text": [
      "bedrooms          0\n",
      "bathrooms         0\n",
      "sqft_living       1\n",
      "sqft_lot         35\n",
      "floors            0\n",
      "waterfront        4\n",
      "view             11\n",
      "condition         0\n",
      "grade             0\n",
      "sqft_above        0\n",
      "sqft_basement     1\n",
      "sqft_living15     0\n",
      "sqft_lot15       35\n",
      "price            10\n",
      "dtype: int64\n",
      "\n",
      "\n",
      "bedrooms         0\n",
      "bathrooms        0\n",
      "sqft_living      0\n",
      "sqft_lot         0\n",
      "floors           0\n",
      "waterfront       0\n",
      "view             0\n",
      "condition        0\n",
      "grade            0\n",
      "sqft_above       0\n",
      "sqft_basement    0\n",
      "sqft_living15    0\n",
      "sqft_lot15       0\n",
      "price            0\n",
      "dtype: int64\n"
     ]
    }
   ],
   "source": [
    "head = list(df.columns.values)\n",
    "for x in head:\n",
    "    q90, q10 = np.percentile(df.loc[:, x],[90, 10])\n",
    "    IQR = q90-q10\n",
    " \n",
    "    max = q90 + (2 * IQR)\n",
    "    min = q10 - (2 * IQR)\n",
    " \n",
    "    df.loc[df[x] < min, x] = np.nan\n",
    "    df.loc[df[x] > max, x] = np.nan\n",
    "\n",
    "print(df.isnull().sum())\n",
    "df = df.dropna(axis = 0)\n",
    "print(\"\\n\")\n",
    "print(df.isnull().sum())"
   ]
  },
  {
   "cell_type": "code",
   "execution_count": 7,
   "id": "changing-glass",
   "metadata": {},
   "outputs": [
    {
     "name": "stdout",
     "output_type": "stream",
     "text": [
      "bedrooms         0\n",
      "bathrooms        0\n",
      "sqft_living      0\n",
      "sqft_lot         0\n",
      "floors           0\n",
      "waterfront       0\n",
      "view             0\n",
      "condition        0\n",
      "grade            0\n",
      "sqft_above       0\n",
      "sqft_basement    0\n",
      "sqft_living15    0\n",
      "sqft_lot15       0\n",
      "price            0\n",
      "dtype: int64\n"
     ]
    }
   ],
   "source": [
    "X = df.iloc[:, :-1].values\n",
    "y = df.iloc[:, -1].values\n",
    "print(df.isnull().sum())\n",
    "\n",
    "#splitting the dataset into training data and testing data\n",
    "splitData = int(0.7*len(X))\n",
    "train_X, test_X, train_y, test_y = X[:splitData], X[splitData:], y[:splitData], y[splitData:]"
   ]
  },
  {
   "cell_type": "code",
   "execution_count": 8,
   "id": "embedded-spain",
   "metadata": {},
   "outputs": [],
   "source": [
    "WeightV = np.zeros(13)\n",
    "#finding the weights based on the training data\n",
    "def fit(X, Y, iters, learning_rate, F_selected, F_trial):\n",
    "    global bias\n",
    "    bias = 0  \n",
    "    WeightV = np.zeros(13)\n",
    "    \n",
    "    for itr in range(iters):\n",
    "        sumItrError = 0    \n",
    "        for z in range(len(Y)):      \n",
    "            column = Y[z]  \n",
    "            dataP_error = 0           \n",
    "            \n",
    "            for m in range(13):\n",
    "                dataP_error += (F_selected[m] - F_trial[m]) * WeightV[m] * X[z][m]  \n",
    "            dataP_error += bias\n",
    "            dataP_error -= column      \n",
    "            for m in range(13):                   \n",
    "                    WeightV[m] -= (learning_rate/len(X)) * dataP_error * X[z][m]\n",
    "            bias -= (learning_rate/len(X)) * dataP_error\n",
    "            dataP_error = (dataP_error**2)\n",
    "            sumItrError += dataP_error/len(Y)\n",
    "            \n",
    "        sumItrError = (0.5*sumItrError)**0.5\n",
    "    return sumItrError    "
   ]
  },
  {
   "cell_type": "code",
   "execution_count": 9,
   "id": "southwest-insulin",
   "metadata": {},
   "outputs": [],
   "source": [
    "def predict(X, Y, F_selected, F_trial):\n",
    "    sumItrError = 0\n",
    "    for z in range(len(X)):        \n",
    "        dataP_error = 0            \n",
    "            \n",
    "        for m in range(13):\n",
    "            dataP_error += (F_selected[m] - F_trial[m]) * WeightV[m] * X[z][m]    \n",
    "        dataP_error += bias\n",
    "        \n",
    "        dataP_error -= Y[z]      \n",
    "        dataP_error = (dataP_error**2)\n",
    "        sumItrError += dataP_error/(2*len(X))\n",
    "            \n",
    "    sumItrError = (sumItrError)**0.5\n",
    "    return sumItrError"
   ]
  },
  {
   "cell_type": "code",
   "execution_count": 10,
   "id": "characteristic-french",
   "metadata": {},
   "outputs": [
    {
     "name": "stdout",
     "output_type": "stream",
     "text": [
      "Minimum error for 1 feature(s) is 0.02535077605534255\n",
      "Minimum error for 2 feature(s) is 0.02528237743935589\n",
      "Minimum error for 3 feature(s) is 0.02524224219171657\n",
      "Minimum error for 4 feature(s) is 0.025241941330810515\n",
      "Minimum error for 5 feature(s) is 0.02524186181331601\n",
      "Minimum error for 6 feature(s) is 0.02524186181331601\n",
      "Minimum error for 7 feature(s) is 0.025372054673696506\n",
      "Minimum error for 8 feature(s) is 0.025613381054067817\n",
      "Minimum error for 9 feature(s) is 0.026053088517137817\n",
      "Minimum error for 10 feature(s) is 0.02695657908868862\n",
      "Minimum error for 11 feature(s) is 0.028392191598518513\n",
      "Minimum error for 12 feature(s) is 0.030048381728066058\n",
      "Minimum error for 13 feature(s) is 0.03761829011607138\n",
      "-----------------------------------------------------------------------------------------------------------------------\n",
      "Minimum training error is 0.02524186181331601\n",
      "Number of features in the optimal model is/are 7\n",
      "\n",
      "List of features giving minimum training error are\n",
      "sqft_living, view, condition, grade, sqft_above, sqft_basement, sqft_living15, "
     ]
    }
   ],
   "source": [
    "F_selected = np.ones(13)\n",
    "F_trial = np.zeros(13)\n",
    "finalFeatures = np.zeros(13)\n",
    "finalMinE = float('inf')\n",
    "\n",
    "for i in range(13):\n",
    "    minErrorIn_i = float('inf')\n",
    "    minIndex = i\n",
    "    for j in range(13):\n",
    "        if(F_selected[j]==0):\n",
    "            continue\n",
    "        F_trial[j] = 1\n",
    "        error_j = fit(train_X, train_y, 500, 0.1, F_selected, F_trial)\n",
    "        if(error_j <= minErrorIn_i):\n",
    "            minErrorIn_i = error_j\n",
    "            minIndex = j\n",
    "        F_trial[j] = 0\n",
    "    F_selected[minIndex] = 0     \n",
    "    if(minErrorIn_i <= finalMinE):\n",
    "        finalMinE = minErrorIn_i\n",
    "        finalIndex = i\n",
    "        for u in range(13):\n",
    "            finalFeatures[u] = F_selected[u]\n",
    "    print(\"Minimum error for\", i+1, \"feature(s) is\", minErrorIn_i)   \n",
    "\n",
    "print(\"-----------------------------------------------------------------------------------------------------------------------\")    \n",
    "print(\"Minimum training error is\", finalMinE) \n",
    "print(\"Number of features in the optimal model is/are\", 13 - (finalIndex+1))\n",
    "print(\"\\nList of features giving minimum training error are\")\n",
    "for i in range(13):\n",
    "    if(finalFeatures[i]==1):\n",
    "        print(Features_list[i], end=\", \")"
   ]
  },
  {
   "cell_type": "code",
   "execution_count": 11,
   "id": "acquired-tracy",
   "metadata": {},
   "outputs": [
    {
     "name": "stdout",
     "output_type": "stream",
     "text": [
      "Minimum testing error considering these 6 features is 0.06659909865332965\n"
     ]
    }
   ],
   "source": [
    "fit(train_X, train_y, 500, 0.1, finalFeatures, F_trial)\n",
    "\n",
    "#making predictions on test data\n",
    "testingE = predict(test_X, test_y, finalFeatures, F_trial)\n",
    "print(\"Minimum testing error considering these\", finalIndex+1, \"features is\", testingE)"
   ]
  }
 ],
 "metadata": {
  "kernelspec": {
   "display_name": "Python 3",
   "language": "python",
   "name": "python3"
  },
  "language_info": {
   "codemirror_mode": {
    "name": "ipython",
    "version": 3
   },
   "file_extension": ".py",
   "mimetype": "text/x-python",
   "name": "python",
   "nbconvert_exporter": "python",
   "pygments_lexer": "ipython3",
   "version": "3.9.1"
  }
 },
 "nbformat": 4,
 "nbformat_minor": 5
}
