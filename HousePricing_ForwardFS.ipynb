{
 "cells": [
  {
   "cell_type": "code",
   "execution_count": 1,
   "id": "sealed-revolution",
   "metadata": {},
   "outputs": [],
   "source": [
    "#importing the libraries\n",
    "import numpy as np\n",
    "import pandas as pd"
   ]
  },
  {
   "cell_type": "code",
   "execution_count": 2,
   "id": "velvet-christopher",
   "metadata": {
    "scrolled": true
   },
   "outputs": [
    {
     "data": {
      "text/plain": [
       "bedrooms          0\n",
       "bathrooms         0\n",
       "sqft_living      14\n",
       "sqft_lot          0\n",
       "floors           13\n",
       "waterfront        0\n",
       "view              0\n",
       "condition         0\n",
       "grade             0\n",
       "sqft_above       14\n",
       "sqft_basement     0\n",
       "sqft_living15     0\n",
       "sqft_lot15        0\n",
       "price             0\n",
       "dtype: int64"
      ]
     },
     "execution_count": 2,
     "metadata": {},
     "output_type": "execute_result"
    }
   ],
   "source": [
    "#reading the data\n",
    "df = pd.read_csv(\"FoDS-Assignment-2.csv\")\n",
    "\n",
    "# shuffle the DataFrame rows\n",
    "df = df.sample(frac = 1)\n",
    "\n",
    "df.isnull().sum()"
   ]
  },
  {
   "cell_type": "code",
   "execution_count": 3,
   "id": "changing-appraisal",
   "metadata": {},
   "outputs": [
    {
     "data": {
      "text/plain": [
       "bedrooms         0\n",
       "bathrooms        0\n",
       "sqft_living      0\n",
       "sqft_lot         0\n",
       "floors           0\n",
       "waterfront       0\n",
       "view             0\n",
       "condition        0\n",
       "grade            0\n",
       "sqft_above       0\n",
       "sqft_basement    0\n",
       "sqft_living15    0\n",
       "sqft_lot15       0\n",
       "price            0\n",
       "dtype: int64"
      ]
     },
     "execution_count": 3,
     "metadata": {},
     "output_type": "execute_result"
    }
   ],
   "source": [
    "#handling missing values-----dropping rows method\n",
    "df = df.dropna(axis = 0)\n",
    "df.isnull().sum()"
   ]
  },
  {
   "cell_type": "code",
   "execution_count": 4,
   "id": "acknowledged-literacy",
   "metadata": {},
   "outputs": [],
   "source": [
    "Features_list = [\"bedrooms\", \"bathrooms\", \"sqft_living\", \"sqft_lot\", \"floors\", \"waterfront\", \"view\", \"condition\", \"grade\", \"sqft_above\", \"sqft_basement\", \"sqft_living15\", \"sqft_lot15\"]\n",
    "\n",
    "#Feature Scaling\n",
    "#normalising the data values\n",
    "df = (df - df.min()) / (df.max() - df.min())"
   ]
  },
  {
   "cell_type": "code",
   "execution_count": 5,
   "id": "plastic-grave",
   "metadata": {},
   "outputs": [
    {
     "name": "stdout",
     "output_type": "stream",
     "text": [
      "bedrooms          0\n",
      "bathrooms         0\n",
      "sqft_living       1\n",
      "sqft_lot         35\n",
      "floors            0\n",
      "waterfront        4\n",
      "view             11\n",
      "condition         0\n",
      "grade             0\n",
      "sqft_above        0\n",
      "sqft_basement     1\n",
      "sqft_living15     0\n",
      "sqft_lot15       35\n",
      "price             0\n",
      "dtype: int64\n",
      "\n",
      "\n",
      "bedrooms         0\n",
      "bathrooms        0\n",
      "sqft_living      0\n",
      "sqft_lot         0\n",
      "floors           0\n",
      "waterfront       0\n",
      "view             0\n",
      "condition        0\n",
      "grade            0\n",
      "sqft_above       0\n",
      "sqft_basement    0\n",
      "sqft_living15    0\n",
      "sqft_lot15       0\n",
      "price            0\n",
      "dtype: int64\n"
     ]
    }
   ],
   "source": [
    "for x in Features_list:\n",
    "    q90, q10 = np.percentile(df.loc[:, x],[90, 10])\n",
    "    IQR = q90-q10\n",
    " \n",
    "    max = q90 + (2 * IQR)\n",
    "    min = q10 - (2 * IQR)\n",
    " \n",
    "    df.loc[df[x] < min, x] = np.nan\n",
    "    df.loc[df[x] > max, x] = np.nan\n",
    "\n",
    "print(df.isnull().sum())\n",
    "print(\"\\n\")\n",
    "df = df.dropna(axis = 0)\n",
    "print(df.isnull().sum())"
   ]
  },
  {
   "cell_type": "code",
   "execution_count": 6,
   "id": "radio-momentum",
   "metadata": {},
   "outputs": [],
   "source": [
    "X = df.iloc[:, :-1].values\n",
    "y = df.iloc[:, -1].values\n",
    "\n",
    "#splitting the dataset into training data and testing data\n",
    "splitData = int(0.7*len(X))\n",
    "train_X, test_X, train_y, test_y = X[:splitData], X[splitData:], y[:splitData], y[splitData:]"
   ]
  },
  {
   "cell_type": "code",
   "execution_count": 7,
   "id": "joint-provincial",
   "metadata": {},
   "outputs": [],
   "source": [
    "WeightV = np.zeros(13)\n",
    "for n in range(13):\n",
    "    WeightV[n] = np.random.randn()"
   ]
  },
  {
   "cell_type": "code",
   "execution_count": 8,
   "id": "embedded-spain",
   "metadata": {},
   "outputs": [],
   "source": [
    "#finding the weights based on the training data\n",
    "def fit(X, Y, iters, learning_rate, F_selected, F_trial):\n",
    "    global bias\n",
    "    bias = 0  \n",
    "    \n",
    "    for itr in range(iters):\n",
    "        sumItrError = 0   \n",
    "        for z in range(len(Y)):        # each row in input data\n",
    "            column = Y[z]\n",
    "            dataP_error = 0            # calculating error in each data point\n",
    "            \n",
    "            for m in range(13):\n",
    "                dataP_error += (F_selected[m] + F_trial[m]) * WeightV[m] * X[z][m]    # summation of (w1*x1 + w2*x2 + w3*x3 + w4*x4 ...)\n",
    "                \n",
    "            dataP_error += bias\n",
    "            dataP_error -= column      # (w0 + w1*x1 + w2*x1^2 + w3*x1*x2 + w4*x2^2 ...) - yn\n",
    "\n",
    "            # for each parameter(w0, w1, w2,...)    \n",
    "            for m in range(13):                   \n",
    "                    WeightV[m] -= (learning_rate/len(X)) * dataP_error * X[z][m]   # calculating w0, w1, w2,... for each iteration\n",
    "            bias -= (learning_rate/len(Y)) * dataP_error\n",
    "            sumItrError +=  0.5*dataP_error**2/len(Y)\n",
    "            \n",
    "        sumItrError = (sumItrError)**0.5\n",
    "    return sumItrError    "
   ]
  },
  {
   "cell_type": "code",
   "execution_count": 9,
   "id": "abandoned-badge",
   "metadata": {},
   "outputs": [],
   "source": [
    "def predict(X, Y, F_selected, F_trial):\n",
    "    testingError = 0\n",
    "    for z in range(len(Y)):  \n",
    "        dataP_error = 0            \n",
    "            \n",
    "        for m in range(13):\n",
    "            dataP_error += (F_selected[m] + F_trial[m]) * WeightV[m] * X[z][m]   \n",
    "        dataP_error += bias\n",
    "        \n",
    "        dataP_error -= Y[z]      \n",
    "        testingError += (dataP_error**2)/(2*len(Y))\n",
    "    testingError = (testingError)**0.5\n",
    "    return testingError"
   ]
  },
  {
   "cell_type": "code",
   "execution_count": 10,
   "id": "characteristic-french",
   "metadata": {},
   "outputs": [
    {
     "name": "stdout",
     "output_type": "stream",
     "text": [
      "Minimum error for 1 feature(s) is 0.03441623556617811\n",
      "Minimum error for 2 feature(s) is 0.033271898736949246\n",
      "Minimum error for 3 feature(s) is 0.03297106900495711\n",
      "Minimum error for 4 feature(s) is 0.032995278532587394\n",
      "Minimum error for 5 feature(s) is 0.03305601627595661\n",
      "Minimum error for 6 feature(s) is 0.03239778626255488\n",
      "Minimum error for 7 feature(s) is 0.03093537520928108\n",
      "Minimum error for 8 feature(s) is 0.03072508976359503\n",
      "Minimum error for 9 feature(s) is 0.03124878925690184\n",
      "Minimum error for 10 feature(s) is 0.031779568759163615\n",
      "Minimum error for 11 feature(s) is 0.034375854939350095\n",
      "Minimum error for 12 feature(s) is 0.03486378224096311\n",
      "Minimum error for 13 feature(s) is 0.04140851341534551\n",
      "-----------------------------------------------------------------------------------------------------------------------\n",
      "Minimum training error is 0.03072508976359503\n",
      "Number of features in the optimal model is/are 8\n",
      "\n",
      "List of features giving minimum training error are\n",
      "bedrooms, bathrooms, floors, waterfront, grade, sqft_above, sqft_basement, sqft_living15, "
     ]
    }
   ],
   "source": [
    "F_selected = np.zeros(13)\n",
    "F_trial = np.zeros(13)\n",
    "finalFeatures = np.zeros(13)\n",
    "finalMinE = float('inf')\n",
    "\n",
    "for i in range(13):\n",
    "    minErrorIn_i = float('inf')\n",
    "    minIndex = i\n",
    "    for j in range(13):\n",
    "        if(F_selected[j]==1):\n",
    "            continue\n",
    "        F_trial[j] = 1\n",
    "        error_j = fit(train_X, train_y, 500, 0.1, F_selected, F_trial)\n",
    "        if(error_j <= minErrorIn_i):\n",
    "            minErrorIn_i = error_j\n",
    "            minIndex = j\n",
    "        F_trial[j] = 0\n",
    "    F_selected[minIndex] = 1 \n",
    "    if(minErrorIn_i <= finalMinE):\n",
    "        finalMinE = minErrorIn_i\n",
    "        finalIndex = i\n",
    "        for u in range(13):\n",
    "            finalFeatures[u] = F_selected[u]\n",
    "    print(\"Minimum error for\", i+1, \"feature(s) is\", minErrorIn_i)\n",
    "\n",
    "print(\"-----------------------------------------------------------------------------------------------------------------------\")    \n",
    "print(\"Minimum training error is\", finalMinE) \n",
    "print(\"Number of features in the optimal model is/are\", finalIndex+1)  \n",
    "print(\"\\nList of features giving minimum training error are\")\n",
    "for i in range(13):\n",
    "    if(finalFeatures[i]==1):\n",
    "        print(Features_list[i], end=\", \")"
   ]
  },
  {
   "cell_type": "code",
   "execution_count": 11,
   "id": "painful-official",
   "metadata": {},
   "outputs": [
    {
     "name": "stdout",
     "output_type": "stream",
     "text": [
      "Minimum testing error considering these 8 features is 0.036602420215217805\n"
     ]
    }
   ],
   "source": [
    "fit(train_X, train_y, 500, 0.1, finalFeatures, F_trial)\n",
    "\n",
    "#making predictions on test data\n",
    "testingE = predict(test_X, test_y, finalFeatures, F_trial)\n",
    "print(\"Minimum testing error considering these\", finalIndex+1, \"features is\", testingE)"
   ]
  }
 ],
 "metadata": {
  "kernelspec": {
   "display_name": "Python 3",
   "language": "python",
   "name": "python3"
  },
  "language_info": {
   "codemirror_mode": {
    "name": "ipython",
    "version": 3
   },
   "file_extension": ".py",
   "mimetype": "text/x-python",
   "name": "python",
   "nbconvert_exporter": "python",
   "pygments_lexer": "ipython3",
   "version": "3.9.1"
  }
 },
 "nbformat": 4,
 "nbformat_minor": 5
}
