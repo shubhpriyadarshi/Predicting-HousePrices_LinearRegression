{
 "cells": [
  {
   "cell_type": "code",
   "execution_count": 1,
   "id": "sealed-revolution",
   "metadata": {},
   "outputs": [],
   "source": [
    "#importing the libraries\n",
    "import numpy as np\n",
    "import pandas as pd"
   ]
  },
  {
   "cell_type": "code",
   "execution_count": 2,
   "id": "velvet-christopher",
   "metadata": {
    "scrolled": true
   },
   "outputs": [],
   "source": [
    "#reading the data\n",
    "df = pd.read_csv(\"FoDS-Assignment-2.csv\")\n",
    "\n",
    "# shuffle the DataFrame rows\n",
    "df = df.sample(frac = 1)\n",
    "df = df.dropna(axis = 0)"
   ]
  },
  {
   "cell_type": "code",
   "execution_count": 3,
   "id": "pediatric-wings",
   "metadata": {},
   "outputs": [],
   "source": [
    "X = df.iloc[:, :-1].values\n",
    "y = df.iloc[:, -1].values\n",
    "\n",
    "#splitting the dataset into training data and testing data\n",
    "splitData = int(0.7*len(X))\n",
    "train_X, test_X, train_y, test_y = X[:splitData], X[splitData:], y[:splitData],  y[splitData:]"
   ]
  },
  {
   "cell_type": "code",
   "execution_count": 4,
   "id": "northern-moore",
   "metadata": {},
   "outputs": [],
   "source": [
    "WeightV = np.zeros(13)\n",
    "def fit(X, Y, iterations, learning_rate):\n",
    "    global bias\n",
    "    bias = 0  \n",
    "    WeightV = np.zeros(13)\n",
    "                \n",
    "    for itr in range(iterations):\n",
    "        sumItrError = 0\n",
    "        \n",
    "        for z in range(len(Y)):    \n",
    "            column = Y[z]               \n",
    "            dataP_error = 0           \n",
    "            \n",
    "            for m in range(13):\n",
    "                dataP_error += WeightV[m] * X[z][m]   \n",
    "            \n",
    "            dataP_error = bias\n",
    "            dataP_error -= column                  \n",
    "                \n",
    "            for m in range(13):\n",
    "                WeightV[m] -= (learning_rate/len(X)) * dataP_error * X[z][m] \n",
    "            bias -= (learning_rate/len(X)) * dataP_error        \n",
    "            dataP_error = (dataP_error**2)\n",
    "            sumItrError +=  dataP_error/len(Y)  \n",
    "            \n",
    "        sumItrError = (0.5*sumItrError)**0.5\n",
    "    return sumItrError"
   ]
  },
  {
   "cell_type": "code",
   "execution_count": 5,
   "id": "geographic-cement",
   "metadata": {},
   "outputs": [],
   "source": [
    "def predict(X, Y):\n",
    "    sumItrError = 0\n",
    "    for z in range(len(Y)):        \n",
    "        dataP_error = 0          \n",
    "          \n",
    "        for m in range(13):\n",
    "            dataP_error += WeightV[m] * X[z][m]   \n",
    "        dataP_error += bias\n",
    "        dataP_error -= Y[z]     \n",
    "        sumItrError +=  dataP_error**2/len(Y) \n",
    "        \n",
    "    sumItrError = (0.5*sumItrError)**0.5\n",
    "    return sumItrError    "
   ]
  },
  {
   "cell_type": "code",
   "execution_count": 6,
   "id": "champion-friday",
   "metadata": {
    "scrolled": false
   },
   "outputs": [
    {
     "name": "stdout",
     "output_type": "stream",
     "text": [
      "Minimum training error is  261972.87121957945\n",
      "Minimum testing error is  298899.64597546356\n"
     ]
    }
   ],
   "source": [
    "#fitting the training data\n",
    "trainingE = fit(train_X, train_y, 500, 0.01)\n",
    "print(\"Minimum training error is \", trainingE)\n",
    "\n",
    "#making predictions on test data\n",
    "testingE = predict(test_X, test_y)\n",
    "print(\"Minimum testing error is \", testingE)"
   ]
  }
 ],
 "metadata": {
  "kernelspec": {
   "display_name": "Python 3",
   "language": "python",
   "name": "python3"
  },
  "language_info": {
   "codemirror_mode": {
    "name": "ipython",
    "version": 3
   },
   "file_extension": ".py",
   "mimetype": "text/x-python",
   "name": "python",
   "nbconvert_exporter": "python",
   "pygments_lexer": "ipython3",
   "version": "3.9.1"
  }
 },
 "nbformat": 4,
 "nbformat_minor": 5
}
